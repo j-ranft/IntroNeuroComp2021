{
 "cells": [
  {
   "cell_type": "markdown",
   "metadata": {
    "cell_id": "00000-397b1f28-b9b9-4b94-8479-8b060e84ea31",
    "deepnote_cell_type": "markdown"
   },
   "source": [
    "# TD 3 : Le modèle Leaky Integrate-and-Fire (LIF)\n",
    "---"
   ]
  },
  {
   "cell_type": "code",
   "execution_count": 1,
   "metadata": {
    "cell_id": "00001-2cecdec9-82cd-4b73-afdf-ce47f1fbeea1",
    "deepnote_cell_type": "code",
    "deepnote_to_be_reexecuted": false,
    "execution_millis": 2634,
    "execution_start": 1637763604916,
    "source_hash": "fd52755a"
   },
   "outputs": [],
   "source": [
    "# import necessary modules for numerics and plotting\n",
    "import numpy as np\n",
    "import matplotlib.pyplot as plt\n",
    "%matplotlib inline"
   ]
  },
  {
   "cell_type": "markdown",
   "metadata": {
    "cell_id": "00002-eff13b7f-d7aa-48ae-8cbb-f6bea7113278",
    "deepnote_cell_type": "markdown"
   },
   "source": [
    "# 1. Le modèle Integrate-and-Fire \n",
    "\n",
    "La dynamique sous-seuil d'un neurone \"Integrate-and-Fire\" est décrit par l'équation \n",
    "$$\\tau \\frac{dV}{dt} = -V + RI.$$\n",
    "Ici, $V$ est le potentiel de la membrane, $\\tau$ est la constante de temps de la membrane, $R$ la résistance d'entrée, et $I$ représente un courant injecté dans le neurone. Pour faire simple, tous les potentiels sont mésurés rélatif au potentiel de repos $E_L$, qui pour cette raison n'apparaît plus dans l'équation. \n",
    "\n",
    "Chaque fois que le potentiel excède un seuil $V_{\\rm seuil}$, on considère que le neurone emet un potentiel d'action, et le potentiel membranaire est remis à une valeur de \"reset\", $V\\to V_{\\rm reset}$.\n",
    "\n",
    "Considérons les paramètres suivants : $\\tau=20$ ms et $R=1$ MOhm pour la dynamique sous-seuil, et $V_{\\rm seuil}=20$ mV avec $V_{\\rm reset}=0$ mV pour le mécanisme de décharge. \n",
    "\n",
    "Remarque : Si nous allons spécifier le courant $I$ en nA, nous pouvons calculer le produit $R*I$ sans dévoir transformer des unités, puisque MOhm x nA = mV. \n",
    "\n"
   ]
  },
  {
   "cell_type": "markdown",
   "metadata": {
    "cell_id": "00003-481efd3d-3b3c-4521-a7a5-1f932a9b6bfe",
    "deepnote_cell_type": "markdown"
   },
   "source": [
    "## E1.1 Solution analytique de la dynamique sous-seuil du modèle Integrate-and-Fire\n",
    "\n",
    "Quel est le potentiel de la membrane stationnaire - ou le point fixe - pour $t\\rightarrow \\infty$ si on considère *uniquement la dynamique sous-seuil* spécifiée ci-dessus, c'est-à-dire en faisant abstraction du mécanisme de décharge ? \n",
    "\n",
    "Vérifiez que $$V(t) = RI + (V_0 - RI) \\exp(-t/\\tau)$$ est une solution de l'équation différentielle donnée plus haut, avec la condition initiale $V(t=0) = V_0$ et si on considère que le courant $I$ est constant dans le temps. \n",
    "\n",
    "**Indice**: Rappelez-vous que $\\frac{d}{dt} \\left( e^{f(t)} \\right) = e^{f(t)} \\frac{df(t)}{dt}$"
   ]
  },
  {
   "cell_type": "code",
   "execution_count": 2,
   "metadata": {
    "cell_id": "00004-f52014ba-875c-4f38-920b-2df9ac1e7686",
    "deepnote_cell_type": "code"
   },
   "outputs": [],
   "source": [
    "# calcul et réponses sur papier"
   ]
  },
  {
   "cell_type": "markdown",
   "metadata": {
    "cell_id": "00005-1d6eed8d-93ef-474c-a73f-34f04dea8cca",
    "deepnote_cell_type": "markdown"
   },
   "source": [
    "**Solution :** \n",
    "$\\begin{aligned}\n",
    "\\frac{dV}{dt} &= \\frac{d}{dt} \\left[RI + (V_0-RI) e^{-t/\\tau}\\right] \\\\ \n",
    "&= (V_0-RI)\\frac{d}{dt}  e^{-t/\\tau} \\\\\n",
    "&= -(V_0-RI)\\frac{e^{-t/\\tau}}{\\tau}  \\\\\n",
    "&= \\frac{-V(t)+RI}{\\tau}\n",
    "\\end{aligned}$\n"
   ]
  },
  {
   "cell_type": "code",
   "execution_count": 3,
   "metadata": {
    "cell_id": "00006-0e407c39-c079-484c-bc68-c58685efc938",
    "deepnote_cell_type": "code",
    "deepnote_to_be_reexecuted": false,
    "execution_millis": 17,
    "execution_start": 1637765416515,
    "source_hash": "fa090cf4"
   },
   "outputs": [],
   "source": [
    "# Plottez la solution pour les paramètres données plus haut \n",
    "# et la valeur initiale V0 = Vreset\n",
    "\n",
    "R = 1. # MOhm\n",
    "tau = 20. # ms\n",
    "\n",
    "Vseuil = 20. # mV\n",
    "Vreset = 0. # mV\n",
    "\n",
    "\n",
    "V0 = Vreset\n",
    "\n",
    "def Vs(t, I):\n",
    "    return R*I + (V0-R*I)*np.exp(-t/tau)\n"
   ]
  },
  {
   "cell_type": "code",
   "execution_count": 4,
   "metadata": {
    "cell_id": "00007-d2c5f5c9-f7d2-4c41-9d30-7c09416bf45e",
    "deepnote_cell_type": "code",
    "deepnote_output_heights": [
     21.078125,
     263.96875
    ],
    "deepnote_to_be_reexecuted": false,
    "execution_millis": 468,
    "execution_start": 1637765824880,
    "source_hash": "f4443450",
    "tags": []
   },
   "outputs": [
    {
     "data": {
      "text/plain": [
       "<matplotlib.legend.Legend at 0x119d34358>"
      ]
     },
     "execution_count": 4,
     "metadata": {},
     "output_type": "execute_result"
    },
    {
     "data": {
      "image/png": "[encoded data removed]",
      "text/plain": [
       "<Figure size 432x288 with 1 Axes>"
      ]
     },
     "metadata": {
      "needs_background": "light"
     },
     "output_type": "display_data"
    }
   ],
   "source": [
    "T = 100 # ms\n",
    "dt = 0.1 # ms\n",
    "t = np.arange(0,T,dt)\n",
    "nt = len(t)\n",
    "\n",
    "I = 10. # nA\n",
    "fig, ax = plt.subplots()\n",
    "for I in [10, 19, 21, 25]:\n",
    "    ax.plot(t, Vs(t, I), label='I = %g nA'%I)\n",
    "ax.axhline(Vseuil, c='k', ls='--', label='Seuil')\n",
    "ax.set_xlabel('t (ms)')\n",
    "ax.set_ylabel('V (mV)')\n",
    "ax.legend()"
   ]
  },
  {
   "cell_type": "markdown",
   "metadata": {
    "cell_id": "00007-530971d5-29ac-472d-8b26-4475d71b9ea3",
    "deepnote_cell_type": "markdown"
   },
   "source": [
    "## E1.2 L'activité de décharge du neurone Integrate-and-Fire\n",
    "\n",
    "Dans le modèle Integrate-and-Fire, un potentiel d'action est déclenché lorsque le potentiel de membrane atteint un seuil $V_{\\rm seuil}$. Le potentiel est remis à $V \\rightarrow V_{\\rm reset}$ après le potentiel d'action. \n",
    "\n",
    "**Dans quelle condition, c'est-à-dire pour quel courant injecté, le neurone déclenche-t-il des potentiels d'action ?**\n",
    "\n",
    "Veuillez dériver l'expression analytique du taux de décharge $f(t)$ en fonction de l'input externe $I$. \n",
    "\n",
    "**Indice :** Calculez d'abord combien de temps $T$ il faut pour passer de $V(t=0)=V_{\\rm reset}$ à $V(T)=V_{\\rm seuil}$. Ce temps $T$ entre deux spikes dépend du courant injecté, $T=T(I)$. Le taux de décharge en fonction de l'input est alors donné par $f(I) = 1/T(I)$. Tracez le taux de décharge $f$ en fonction de l'entrée $I$."
   ]
  },
  {
   "cell_type": "code",
   "execution_count": 5,
   "metadata": {
    "cell_id": "00008-801b5c90-5186-4c02-9ce8-132cef3f7112",
    "deepnote_cell_type": "code"
   },
   "outputs": [],
   "source": [
    "# calcul et réponses sur papier"
   ]
  },
  {
   "cell_type": "markdown",
   "metadata": {
    "cell_id": "00009-0a547bca-bf03-4287-8231-6d060e4d0dee",
    "deepnote_cell_type": "markdown"
   },
   "source": [
    "**Solution :** \n",
    "\n",
    "$\\begin{aligned}\n",
    "V_{\\rm seuil} &= V(T)  \\\\ \n",
    "&=  RI + (V_{\\rm reset} - RI)e^{-T/\\tau} \\end{aligned} $\n",
    "\n",
    "\n",
    "$\\begin{aligned}\n",
    "V_{\\rm seuil} &=  RI + (V_{\\rm reset} - RI)e^{-T/\\tau} \\\\\n",
    "\\Leftrightarrow\\ \\ V_{\\rm seuil} - RI &=  (V_{\\rm reset} - RI)e^{-T/\\tau} \\\\\n",
    "\\Leftrightarrow\\ \\ \\frac{V_{\\rm seuil} - RI}{V_{\\rm reset} - RI} &=  e^{-T/\\tau} \\\\\n",
    "\\Leftrightarrow\\ \\ \\ln{\\frac{V_{\\rm seuil} - RI}{V_{\\rm reset} - RI}} &=  -\\frac{T}{\\tau} \\\\\n",
    "\\Leftrightarrow\\ \\ T &= \\tau \\ln\\left(\\frac{V_{\\rm reset} - RI}{V_{\\rm seuil} - RI}\\right) \\\\\n",
    "\\\\\n",
    "\\Rightarrow\\ \\ f(I) &= \\frac{1}{\\tau \\ln\\left(\\frac{V_{\\rm reset} - RI}{V_{\\rm seuil} - RI}\\right)}   \n",
    "\\end{aligned} $"
   ]
  },
  {
   "cell_type": "code",
   "execution_count": 6,
   "metadata": {
    "cell_id": "00010-58de75bf-511e-480c-9e38-e567e895b1c9",
    "deepnote_cell_type": "code",
    "deepnote_output_heights": [
     null,
     21.078125,
     263.96875
    ],
    "deepnote_to_be_reexecuted": false,
    "execution_millis": 251,
    "execution_start": 1637767666442,
    "scrolled": false,
    "source_hash": "a9e197c5"
   },
   "outputs": [
    {
     "name": "stderr",
     "output_type": "stream",
     "text": [
      "/Users/jranft/miniconda3/lib/python3.7/site-packages/ipykernel_launcher.py:5: RuntimeWarning: divide by zero encountered in true_divide\n",
      "  \"\"\"\n",
      "/Users/jranft/miniconda3/lib/python3.7/site-packages/ipykernel_launcher.py:5: RuntimeWarning: divide by zero encountered in log\n",
      "  \"\"\"\n",
      "/Users/jranft/miniconda3/lib/python3.7/site-packages/ipykernel_launcher.py:5: RuntimeWarning: invalid value encountered in log\n",
      "  \"\"\"\n"
     ]
    },
    {
     "data": {
      "text/plain": [
       "Text(0, 0.5, 'f (Hz)')"
      ]
     },
     "execution_count": 6,
     "metadata": {},
     "output_type": "execute_result"
    },
    {
     "data": {
      "image/png": "[encoded data removed]",
      "text/plain": [
       "<Figure size 432x288 with 1 Axes>"
      ]
     },
     "metadata": {
      "needs_background": "light"
     },
     "output_type": "display_data"
    }
   ],
   "source": [
    "# Plottez la courbe f-I du LIF avec \n",
    "# les paramètres choisis\n",
    "\n",
    "def fI(I):\n",
    "    T = tau*np.log((Vreset-R*I)/(Vseuil-R*I))\n",
    "    return 1e3/T # in Hz\n",
    "\n",
    "\n",
    "Is = np.arange(0,30,0.1) # nA\n",
    "\n",
    "fig, ax = plt.subplots()\n",
    "ax.plot(Is, fI(Is))\n",
    "ax.set_xlabel('I (nA)')\n",
    "ax.set_ylabel('f (Hz)')\n",
    "\n"
   ]
  },
  {
   "cell_type": "code",
   "execution_count": 7,
   "metadata": {
    "cell_id": "00012-184fceab-cc02-49c9-b97f-628a3f881f15",
    "deepnote_cell_type": "code",
    "deepnote_output_heights": [
     null,
     611
    ],
    "deepnote_to_be_reexecuted": false,
    "execution_millis": 1,
    "execution_start": 1637767320181,
    "source_hash": "be0013ee",
    "tags": []
   },
   "outputs": [
    {
     "name": "stderr",
     "output_type": "stream",
     "text": [
      "/Users/jranft/miniconda3/lib/python3.7/site-packages/ipykernel_launcher.py:5: RuntimeWarning: divide by zero encountered in true_divide\n",
      "  \"\"\"\n",
      "/Users/jranft/miniconda3/lib/python3.7/site-packages/ipykernel_launcher.py:5: RuntimeWarning: divide by zero encountered in log\n",
      "  \"\"\"\n",
      "/Users/jranft/miniconda3/lib/python3.7/site-packages/ipykernel_launcher.py:5: RuntimeWarning: invalid value encountered in log\n",
      "  \"\"\"\n"
     ]
    },
    {
     "data": {
      "text/plain": [
       "array([-0.        ,         nan,         nan,         nan,         nan,\n",
       "               nan,         nan,         nan,         nan,         nan,\n",
       "               nan,         nan,         nan,         nan,         nan,\n",
       "               nan,         nan,         nan,         nan,         nan,\n",
       "               nan,         nan,         nan,         nan,         nan,\n",
       "               nan,         nan,         nan,         nan,         nan,\n",
       "               nan,         nan,         nan,         nan,         nan,\n",
       "               nan,         nan,         nan,         nan,         nan,\n",
       "               nan,         nan,         nan,         nan,         nan,\n",
       "               nan,         nan,         nan,         nan,         nan,\n",
       "               nan,         nan,         nan,         nan,         nan,\n",
       "               nan,         nan,         nan,         nan,         nan,\n",
       "               nan,         nan,         nan,         nan,         nan,\n",
       "               nan,         nan,         nan,         nan,         nan,\n",
       "               nan,         nan,         nan,         nan,         nan,\n",
       "               nan,         nan,         nan,         nan,         nan,\n",
       "               nan,         nan,         nan,         nan,         nan,\n",
       "               nan,         nan,         nan,         nan,         nan,\n",
       "               nan,         nan,         nan,         nan,         nan,\n",
       "               nan,         nan,         nan,         nan,         nan,\n",
       "               nan,         nan,         nan,         nan,         nan,\n",
       "               nan,         nan,         nan,         nan,         nan,\n",
       "               nan,         nan,         nan,         nan,         nan,\n",
       "               nan,         nan,         nan,         nan,         nan,\n",
       "               nan,         nan,         nan,         nan,         nan,\n",
       "               nan,         nan,         nan,         nan,         nan,\n",
       "               nan,         nan,         nan,         nan,         nan,\n",
       "               nan,         nan,         nan,         nan,         nan,\n",
       "               nan,         nan,         nan,         nan,         nan,\n",
       "               nan,         nan,         nan,         nan,         nan,\n",
       "               nan,         nan,         nan,         nan,         nan,\n",
       "               nan,         nan,         nan,         nan,         nan,\n",
       "               nan,         nan,         nan,         nan,         nan,\n",
       "               nan,         nan,         nan,         nan,         nan,\n",
       "               nan,         nan,         nan,         nan,         nan,\n",
       "               nan,         nan,         nan,         nan,         nan,\n",
       "               nan,         nan,         nan,         nan,         nan,\n",
       "               nan,         nan,         nan,         nan,         nan,\n",
       "               nan,         nan,         nan,         nan,         nan,\n",
       "               nan,         nan,         nan,         nan,         nan,\n",
       "               nan,  9.42808322, 10.83395327, 11.8635398 , 12.71673891,\n",
       "       13.4641254 , 14.13980483, 14.76316062, 15.34638382, 15.8976968 ,\n",
       "       16.42293694, 16.92641457, 17.41141302, 17.88049729, 18.33571359,\n",
       "       18.77872328, 19.21089567, 19.63337415, 20.04712433, 20.45296987,\n",
       "       20.85161957, 21.24368824, 21.62971297, 22.01016596, 22.38546478,\n",
       "       22.75598067, 23.12204527, 23.4839562 , 23.84198162, 24.19636406,\n",
       "       24.5473237 , 24.89506102, 25.23975918, 25.58158595, 25.92069545,\n",
       "       26.2572296 , 26.5913194 , 26.92308604, 27.25264187, 27.58009126,\n",
       "       27.90553133, 28.22905264, 28.55073976, 28.8706718 , 29.18892288,\n",
       "       29.50556253, 29.82065608, 30.134265  , 30.44644718, 30.75725724,\n",
       "       31.06674673, 31.3749644 , 31.68195637, 31.98776634, 32.29243574,\n",
       "       32.5960039 , 32.89850819, 33.19998411, 33.50046549, 33.79998453,\n",
       "       34.09857192, 34.39625694, 34.69306755, 34.98903045, 35.28417117,\n",
       "       35.57851414, 35.87208273, 36.16489935, 36.45698546, 36.74836164,\n",
       "       37.03904766, 37.32906246, 37.61842429, 37.90715064, 38.19525836,\n",
       "       38.48276366, 38.76968212, 39.05602877, 39.34181809, 39.62706401,\n",
       "       39.91178001, 40.19597904, 40.47967365, 40.76287592, 41.04559754,\n",
       "       41.3278498 , 41.60964361, 41.89098953, 42.17189775, 42.45237817,\n",
       "       42.73244034, 43.01209353, 43.29134671, 43.57020856, 43.84868753,\n",
       "       44.12679176, 44.4045292 , 44.68190752, 44.95893419, 45.23561645])"
      ]
     },
     "execution_count": 7,
     "metadata": {},
     "output_type": "execute_result"
    }
   ],
   "source": [
    "fI(Is) # --> nan = \"Not a number\", représantant une valeur numérique mal définie"
   ]
  },
  {
   "cell_type": "code",
   "execution_count": 8,
   "metadata": {
    "cell_id": "00013-96209156-bd55-4610-a344-75afbfc18327",
    "deepnote_cell_type": "code",
    "deepnote_output_heights": [
     null,
     21.078125,
     263.96875
    ],
    "deepnote_to_be_reexecuted": false,
    "execution_millis": 274,
    "execution_start": 1637768024741,
    "source_hash": "5feb588d",
    "tags": []
   },
   "outputs": [
    {
     "name": "stderr",
     "output_type": "stream",
     "text": [
      "/Users/jranft/miniconda3/lib/python3.7/site-packages/ipykernel_launcher.py:5: RuntimeWarning: invalid value encountered in log\n",
      "  \"\"\"\n"
     ]
    },
    {
     "data": {
      "text/plain": [
       "Text(0, 0.5, 'f (Hz)')"
      ]
     },
     "execution_count": 8,
     "metadata": {},
     "output_type": "execute_result"
    },
    {
     "data": {
      "image/png": "[encoded data removed]",
      "text/plain": [
       "<Figure size 432x288 with 1 Axes>"
      ]
     },
     "metadata": {
      "needs_background": "light"
     },
     "output_type": "display_data"
    }
   ],
   "source": [
    "Is = np.arange(19,21,0.001) # nA\n",
    "\n",
    "fig, ax = plt.subplots()\n",
    "ax.plot(Is, fI(Is))\n",
    "ax.set_xlabel('I (nA)')\n",
    "ax.set_ylabel('f (Hz)')"
   ]
  },
  {
   "cell_type": "markdown",
   "metadata": {},
   "source": [
    "**Remarque :** Contrairement au modèle de FitzHugh-Nagumo étudié dans le DM2, la fréquence de décharge peut dévenir arbitrairement petit très près de la valeur critique de $I$, $I_{\\rm crit} = V_{\\rm seuil}/R$, mais la fréquence croit très rapidement avec $I$ près de $I_{\\rm crit}$."
   ]
  },
  {
   "cell_type": "markdown",
   "metadata": {
    "cell_id": "00011-d849b25d-7c96-486d-a9dd-ba28a48c89c5",
    "deepnote_cell_type": "markdown"
   },
   "source": [
    "## Bonus : E1.3 Neurone Integrate-and-Fire avec période refractaire\n",
    "\n",
    "Considérons maintenant un neurone avec une période réfractaire : Dans cette modification du modèle, le neurone n'intégre pas d'inputs pendant une période brève après l'émission d'un spike, similaire aux vrais neurones. Supposons que la période réfractaire dure un temps $D$. Comment le taux de décharge $f(I)$ change-t-il avec une période réfractaire de $D=5$ ms ? Quelle est la nouvelle expression pour $f(I)$ ? Tracez $f$ en fonction de $I$. \n",
    "\n",
    "**Remarque :** La dynamique sous-seuil, une fois la période refractaire passée, est identique au cas sans période refractaire, c'est-à-dire n'est pas modifiée, et un spike est toujours déclenché quand $V>V_{\\rm seuil}$.\n",
    "\n",
    "**Indice :** Dessinez d'abord un croquis de la dynamique du potentiel membranaire pour avoir une meilleure idée de la façon dont $D$ affecte $T$. "
   ]
  },
  {
   "cell_type": "code",
   "execution_count": null,
   "metadata": {
    "cell_id": "00012-c8c020d9-05ed-451a-8a2f-d9e9823370c0",
    "deepnote_cell_type": "code"
   },
   "outputs": [],
   "source": [
    "# calcul et réponses sur papier"
   ]
  },
  {
   "cell_type": "markdown",
   "metadata": {
    "cell_id": "00013-6b39d00f-389d-4fe7-b405-89691367e7e4",
    "deepnote_cell_type": "markdown"
   },
   "source": [
    "**Réponse :**\n",
    "\n",
    "$\\begin{aligned}T_{\\rm avec} &= T_{\\rm sans} + D \\\\\n",
    "\\Rightarrow\\ \\ f_{\\rm avec}(I) &= \\frac{1}{T_{\\rm avec}} \\\\\n",
    " &= \\ldots  \n",
    "\\end{aligned}$\n"
   ]
  },
  {
   "cell_type": "code",
   "execution_count": null,
   "metadata": {
    "cell_id": "00014-df90fb9b-31be-4f6b-a191-d949243d16a8",
    "deepnote_cell_type": "code"
   },
   "outputs": [],
   "source": [
    "# Plottez la courve f-I pour le paramètres choisis\n",
    "# pour D=0 ms (le cas avant, sans période réfractaire)\n",
    "# et D=5 ms."
   ]
  },
  {
   "cell_type": "markdown",
   "metadata": {
    "cell_id": "00015-f25c0ecf-6a5a-4af2-acbc-0a7e35c2a504",
    "deepnote_cell_type": "markdown"
   },
   "source": [
    "## E1.4 Intégration numérique du modèle Integrate-and-Fire (avec décharge !)\n",
    "\n",
    "La semaine précédente, nous avons utilisé la méthode d'Euler pour résoudre des équations différentielles. Nous pouvons utiliser cette même technique pour résoudre la dynamique sous-seuil d'un neurone LIF (Leaky Integrate-and-Fire), en rajoutant un mécanisme de détection de spike et de reset.\n"
   ]
  },
  {
   "cell_type": "code",
   "execution_count": 9,
   "metadata": {
    "cell_id": "00016-9b35c0b0-16fa-492d-b719-08dc2ed015f9",
    "deepnote_cell_type": "code",
    "deepnote_to_be_reexecuted": false,
    "execution_millis": 7,
    "execution_start": 1637770458150,
    "source_hash": "97f12338"
   },
   "outputs": [],
   "source": [
    "# Discretization of time\n",
    "T = 500 # ms\n",
    "dt = 0.1\n",
    "t = np.arange(0,T,dt)\n",
    "nt = len(t)"
   ]
  },
  {
   "cell_type": "code",
   "execution_count": 10,
   "metadata": {
    "cell_id": "00020-60b15f42-7c35-4cc2-bd01-2413c8f9b767",
    "deepnote_cell_type": "code",
    "deepnote_to_be_reexecuted": false,
    "execution_millis": 0,
    "execution_start": 1637769933599,
    "source_hash": "69c07df2",
    "tags": []
   },
   "outputs": [],
   "source": [
    "# Definition of the dynamics\n",
    "# (function returning dV/dt)\n",
    "def f(v,I):\n",
    "    return (R*I - v)/tau\n"
   ]
  },
  {
   "cell_type": "code",
   "execution_count": 14,
   "metadata": {
    "cell_id": "00021-f6b99feb-771f-4264-975f-924a5cb6e5ee",
    "deepnote_cell_type": "code",
    "deepnote_to_be_reexecuted": false,
    "execution_millis": 82,
    "execution_start": 1637770643452,
    "source_hash": "78e4e837",
    "tags": []
   },
   "outputs": [],
   "source": [
    "# Iterative integration of \n",
    "# the subthreshold dynamics,\n",
    "# COMBINED WITH threshold\n",
    "# crossing detection!\n",
    "\n",
    "I = 22 # nA\n",
    "\n",
    "V = np.zeros(nt)\n",
    "V[0] = Vreset\n",
    "\n",
    "spiketimes = []\n",
    "\n",
    "for i in range(nt-1):\n",
    "    # intégration Euler\n",
    "    V[i+1] = V[i] + dt*f(V[i],I)\n",
    "    \n",
    "    # détection si le potentiel\n",
    "    # a franchi le seuil\n",
    "    if V[i+1] > Vseuil:\n",
    "        V[i+1] = Vreset\n",
    "        spiketimes.append(t[i])\n"
   ]
  },
  {
   "cell_type": "code",
   "execution_count": 15,
   "metadata": {
    "cell_id": "00022-38a431bb-072c-41d3-93c4-852cb3b4436c",
    "deepnote_cell_type": "code",
    "deepnote_output_heights": [
     21.078125,
     263.96875
    ],
    "deepnote_to_be_reexecuted": false,
    "execution_millis": 953,
    "execution_start": 1637770645476,
    "source_hash": "76ca99b1",
    "tags": []
   },
   "outputs": [
    {
     "data": {
      "text/plain": [
       "<matplotlib.legend.Legend at 0x11a114a58>"
      ]
     },
     "execution_count": 15,
     "metadata": {},
     "output_type": "execute_result"
    },
    {
     "data": {
      "image/png": "[encoded data removed]",
      "text/plain": [
       "<Figure size 432x288 with 1 Axes>"
      ]
     },
     "metadata": {
      "needs_background": "light"
     },
     "output_type": "display_data"
    }
   ],
   "source": [
    "fig, ax = plt.subplots()\n",
    "ax.plot(t, V, label='LIF')\n",
    "ax.plot(t, Vs(t,I), label='Analytique sous-seuil')\n",
    "ax.axhline(Vseuil, c='k',ls='--')\n",
    "ax.set_xlabel('t (ms)')\n",
    "ax.set_ylabel('V (mV')\n",
    "ax.legend()"
   ]
  },
  {
   "cell_type": "code",
   "execution_count": 16,
   "metadata": {
    "cell_id": "00023-7ef23799-3ac3-4bfd-801e-e8b1cdaf9a37",
    "deepnote_cell_type": "code",
    "deepnote_to_be_reexecuted": false,
    "execution_millis": 4,
    "execution_start": 1637770654905,
    "source_hash": "99bf08b5",
    "tags": []
   },
   "outputs": [
    {
     "name": "stdout",
     "output_type": "stream",
     "text": [
      "Spiketimes: [47.800000000000004, 95.7, 143.6, 191.5, 239.4, 287.3, 335.20000000000005, 383.1, 431.0, 478.90000000000003]\n",
      "Taux de décharge (Hz): 20.0\n",
      "Prédiction (Hz): 20.851619571212314\n"
     ]
    }
   ],
   "source": [
    "print('Spiketimes:', spiketimes)\n",
    "print('Taux de décharge (Hz):', 1000*len(spiketimes)/T)\n",
    "print('Prédiction (Hz):', fI(I))"
   ]
  },
  {
   "cell_type": "code",
   "execution_count": 18,
   "metadata": {
    "cell_id": "00024-3ce25942-086f-4f53-8e66-0db285f46810",
    "deepnote_cell_type": "code",
    "deepnote_to_be_reexecuted": false,
    "execution_millis": 1,
    "execution_start": 1637770924968,
    "source_hash": "2f214420",
    "tags": []
   },
   "outputs": [
    {
     "name": "stdout",
     "output_type": "stream",
     "text": [
      "[47.9 47.9 47.9 47.9 47.9 47.9 47.9 47.9 47.9]\n",
      "CV =  4.1073147143270285e-16\n"
     ]
    }
   ],
   "source": [
    "# calcul des ISI (intervalles inter-spikes)\n",
    "isis = np.diff(spiketimes)\n",
    "print(isis)\n",
    "\n",
    "# calcul du CV (voir diapos du cours)\n",
    "isi_mean = np.mean(isis) # ms\n",
    "isi_std = np.std(isis) # ms\n",
    "print('CV = ', isi_std/isi_mean)"
   ]
  },
  {
   "cell_type": "markdown",
   "metadata": {
    "cell_id": "00025-3aa3b3da-dd1f-4c27-8247-82f800a8384f",
    "deepnote_cell_type": "markdown"
   },
   "source": [
    "# 2. Décharge irrégulière dans le modèle Integrate-and-Fire\n",
    "\n",
    "Ajoutons une entrée de bruit à l'équation du neurone Integrate-and-Fire ci-dessus\n",
    "$$\\tau \\frac{dV}{dt} = -V + RI + \\sigma \\sqrt{\\tau} \\xi(t),$$\n",
    "où $\\sigma$ détermine l'amplitude du bruit et $\\xi(t)$ est un processus de bruit blanc gaussien avec une densité de variance unitaire et moyenne zéro. Avec le terme de bruit, c'est désormais une _**équation différentielle stochastique**_.\n",
    "\n",
    "Le terme de bruit peut par ex. représenter :     \n",
    "* la stochasticité d'ouverture et de fermeture des canaux ioniques,\n",
    "* le bruit synaptique (fiabilité de la transmission synaptique),\n",
    "* les entrées synaptiques externes (inconnues et/ou variables entre les essais).\n",
    "\n",
    " \n",
    "Dans la forme discrétisée telle que nous l'utilisons pour la méthode d'Euler, l'équation devient\n",
    "\n",
    "$\\begin{aligned}\n",
    "V_{i+1} &= V_i + \\Delta t \\left[\\left(\\frac{dV}{dt}\\right)_{\\rm det}(V_i, t_i) + \\sigma\\sqrt{\\frac{1}{\\Delta t \\tau}} \\eta_i\\right] \\\\\n",
    "&= V_i + \\Delta t \\left[\\frac{-V_i + RI}{\\tau} + \\sigma\\sqrt{\\frac{1}{\\Delta t \\tau}} \\eta_i\\right]\n",
    "\\end{aligned}$\n",
    "\n",
    "où le premier terme $\\left(\\frac{dV}{dt}\\right)_{\\rm det}$ -- évalué à $t_i$ -- représente la dynamique déterministe du LIF, tandis que la stochasticité vient du deuxième terme, où $\\eta_i$ est un nombre aléatoire tiré d'une distribution Gaussienne normalisée, avec moyenne zéro et écart-type 1. \n",
    "\n",
    "**Indice :** Tirez des nombres aléatoires Gaussiens avec `np.random.normal()`. \n"
   ]
  },
  {
   "cell_type": "code",
   "execution_count": null,
   "metadata": {
    "cell_id": "00034-b5cae11f-387e-4231-b1f4-0437a08d627a",
    "deepnote_cell_type": "code",
    "deepnote_to_be_reexecuted": false,
    "execution_millis": 13,
    "execution_start": 1637771319835,
    "source_hash": "87ec54e2",
    "tags": []
   },
   "outputs": [
    {
     "name": "stdout",
     "output_type": "stream",
     "text": [
      "-0.10572635489613966\n"
     ]
    }
   ],
   "source": [
    "print(np.random.normal())"
   ]
  },
  {
   "cell_type": "code",
   "execution_count": null,
   "metadata": {
    "cell_id": "00035-17bb801e-4947-4cfa-a6d6-e9d94e92eae2",
    "deepnote_cell_type": "code",
    "deepnote_output_heights": [
     21.078125,
     249.984375
    ],
    "deepnote_to_be_reexecuted": false,
    "execution_millis": 391,
    "execution_start": 1637771465417,
    "source_hash": "2762bad1",
    "tags": []
   },
   "outputs": [
    {
     "data": {
      "text/plain": [
       "[<matplotlib.lines.Line2D at 0x7f1c57ffb090>]"
      ]
     },
     "execution_count": 48,
     "metadata": {},
     "output_type": "execute_result"
    },
    {
     "data": {
      "image/png": "[encoded data removed]",
      "text/plain": [
       "<Figure size 432x288 with 1 Axes>"
      ]
     },
     "metadata": {
      "image/png": {
       "height": 248,
       "width": 378
      },
      "needs_background": "light"
     },
     "output_type": "display_data"
    }
   ],
   "source": [
    "many_random_numbers = np.random.normal(size=10000)\n",
    "\n",
    "fig, ax = plt.subplots()\n",
    "ax.hist(many_random_numbers, bins=50, density=True)\n",
    "x = np.arange(-4,4,0.1)\n",
    "ax.plot(x, np.exp(-x**2/2)/np.sqrt(2*np.pi))\n"
   ]
  },
  {
   "cell_type": "markdown",
   "metadata": {
    "cell_id": "00026-4c28c62d-601f-4713-b3ef-18afd80ead0c",
    "deepnote_cell_type": "markdown"
   },
   "source": [
    "## E2.1 Intégration numérique d'une équation différentielle stochastique : LIF avec  bruit\n",
    "\n",
    "Écrivez un schéma d'intégration numérique de l'équation différentielle ci-dessus. Utilisez la méthode Euler avec un largeur de pas de temps de $0.1$ ms et intégrez pendant 20 secondes. Enregistrez les temps de spikes et calculez le coefficient de variation après l'intégration. Essayez d'obtenir un $CV$ de 1 à un taux de décharge de 1 spk/sec en variant $I$ et $\\sigma$. Tracer le potentiel de la membrane pendant une période de 20 sec. Inspectez l'histogramme de la distribution ISI.  "
   ]
  },
  {
   "cell_type": "code",
   "execution_count": null,
   "metadata": {
    "cell_id": "00027-7ce45b32-724c-425e-8a73-c1de5c33e0db",
    "deepnote_cell_type": "code",
    "deepnote_to_be_reexecuted": false,
    "execution_millis": 2,
    "execution_start": 1637772434565,
    "source_hash": "13621eb3"
   },
   "outputs": [],
   "source": [
    "# Code pour l'intégration Euler\n",
    "#I  = ...\n",
    "#sigma = ...\n",
    "\n",
    "I = 19 # nA -> sous la valeur critique !\n",
    "sigma = 2 # mV\n",
    "\n",
    "T = 500 # ms\n",
    "dt = 0.1\n",
    "t = np.arange(0,T,dt)\n",
    "nt = len(t)\n",
    "\n",
    "V = np.zeros(nt)\n",
    "\n",
    "spiketimes = []\n",
    "\n",
    "for i in range(nt-1):\n",
    "    # deterministic part\n",
    "    V[i+1] = V[i] + dt*f(V[i],I)\n",
    "\n",
    "    # noisy contribution\n",
    "    V[i+1] += np.sqrt(dt/tau)*sigma*np.random.normal()\n",
    "\n",
    "    if V[i+1] > Vseuil:\n",
    "        V[i+1] = Vreset\n",
    "        spiketimes.append(t[i])"
   ]
  },
  {
   "cell_type": "code",
   "execution_count": null,
   "metadata": {
    "cell_id": "00028-4c103c93-4447-4b11-98c4-abf5b30696a3",
    "deepnote_cell_type": "code",
    "deepnote_output_heights": [
     21.078125,
     263.96875
    ],
    "deepnote_to_be_reexecuted": false,
    "execution_millis": 549,
    "execution_start": 1637772437394,
    "source_hash": "670bdaf9"
   },
   "outputs": [
    {
     "data": {
      "text/plain": [
       "<matplotlib.legend.Legend at 0x7f1c5926fe10>"
      ]
     },
     "execution_count": 55,
     "metadata": {},
     "output_type": "execute_result"
    },
    {
     "data": {
      "image/png": "[encoded data removed]",
      "text/plain": [
       "<Figure size 432x288 with 1 Axes>"
      ]
     },
     "metadata": {
      "image/png": {
       "height": 262,
       "width": 392
      },
      "needs_background": "light"
     },
     "output_type": "display_data"
    }
   ],
   "source": [
    "# Plottez le potentiel de membrane V(t)\n",
    "# avec les spikes superposés pour les\n",
    "# valeurs de I et de sigma choisies\n",
    "\n",
    "fig, ax = plt.subplots()\n",
    "ax.plot(t, V, label='LIF')\n",
    "ax.plot(t, Vs(t,I), label='Analytique sous-seuil')\n",
    "ax.axhline(Vseuil, c='k',ls='--')\n",
    "ax.set_xlabel('t (ms)')\n",
    "ax.set_ylabel('V (mV')\n",
    "ax.legend()"
   ]
  },
  {
   "cell_type": "code",
   "execution_count": null,
   "metadata": {
    "cell_id": "00029-6e962bff-e475-4fc1-a790-8bbaf3c286fa",
    "deepnote_cell_type": "code",
    "deepnote_to_be_reexecuted": false,
    "execution_millis": 3,
    "execution_start": 1637772472493,
    "source_hash": "649197a9"
   },
   "outputs": [
    {
     "name": "stdout",
     "output_type": "stream",
     "text": [
      "Spiketimes: [128.5, 189.0, 345.70000000000005, 481.20000000000005]\n",
      "Taux de décharge (Hz): 8.0\n",
      "Prédiction (Hz): nan\n",
      "[ 60.5 156.7 135.5]\n",
      "CV =  0.35103446048203396\n",
      "/shared-libs/python3.7/py-core/lib/python3.7/site-packages/ipykernel_launcher.py:5: RuntimeWarning: invalid value encountered in log\n",
      "  \"\"\"\n"
     ]
    }
   ],
   "source": [
    "# Calculez le CV\n",
    "print('Spiketimes:', spiketimes)\n",
    "print('Taux de décharge (Hz):', 1000*len(spiketimes)/T)\n",
    "print('Prédiction (Hz):', fI(I))\n",
    "\n",
    "isis = np.diff(spiketimes)\n",
    "print(isis)\n",
    "isi_mean = np.mean(isis) # ms\n",
    "isi_std = np.std(isis) # ms\n",
    "print('CV = ', isi_std/isi_mean)"
   ]
  }
 ],
 "metadata": {
  "deepnote": {},
  "deepnote_execution_queue": [],
  "deepnote_notebook_id": "67dcf5c9-78ed-4435-b5f8-4ba67c7ff2fd",
  "kernelspec": {
   "display_name": "Python 3",
   "language": "python",
   "name": "python3"
  },
  "language_info": {
   "codemirror_mode": {
    "name": "ipython",
    "version": 3
   },
   "file_extension": ".py",
   "mimetype": "text/x-python",
   "name": "python",
   "nbconvert_exporter": "python",
   "pygments_lexer": "ipython3",
   "version": "3.7.3"
  }
 },
 "nbformat": 4,
 "nbformat_minor": 2
}
