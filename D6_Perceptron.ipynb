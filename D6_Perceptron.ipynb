{
 "cells": [
  {
   "cell_type": "markdown",
   "metadata": {
    "cell_id": "00000-df83c09d-0ab1-4765-9900-785a8f98025b",
    "deepnote_cell_type": "markdown"
   },
   "source": [
    "# Devoir  #6 : Le perceptron\n",
    "---\n",
    "\n",
    "Dans ce dernier devoir, purement \"bonus\", vous allez pouvoir explorer la convergence du perceptron en fonction du taux d'apprentissage $\\eta$, et quantifier l'erreur faite par la classification en fonction du nombre des données (associations \"entrée-sortie\") déjà considérés par l'algorithme.\n"
   ]
  },
  {
   "cell_type": "code",
   "execution_count": 1,
   "metadata": {
    "cell_id": "00001-4b1a8812-f697-406d-a755-15355ea6bb31",
    "deepnote_cell_type": "code",
    "deepnote_to_be_reexecuted": false,
    "execution_millis": 4646,
    "execution_start": 1639585850841,
    "source_hash": "ffab3ea3"
   },
   "outputs": [],
   "source": [
    "# imports \n",
    "import numpy as np\n",
    "import matplotlib.pyplot as plt\n",
    "%matplotlib inline"
   ]
  },
  {
   "cell_type": "markdown",
   "metadata": {
    "cell_id": "00002-d4d7a737-8587-43bb-922c-aa83f783497d",
    "deepnote_cell_type": "markdown"
   },
   "source": [
    "### E.1 : Création des données d'entraînement\n",
    "\n",
    "Le but sera d'apprendre de classifier correctement des points situés dans les deux demi-espaces $x_2>0$ vs. et $x_2<0$, séparés par une distance $2a$, tel que \n",
    "   - les points de la catégorie \"+1\" sont situés dans $x_1\\in(-1,1),\\ x_2\\in(a,1)$, et \n",
    "   - les points de la catégorie \"-1\" sont situés dans $x_1\\in(-1,1),\\ x_2\\in(-1,-a)$.\n",
    "\n",
    "Créez une liste de `n = 1000` points qui sont aléatoirement choisis de l'une ou l'autre catégorie, et stockez leurs catégories respectives. Plottez et colorier les points selon leur catégorie en suivant l'exemple du TD. Choissisez d'abord `a = 0.1`.\n",
    "\n",
    "**Indice 1 :** Créez d'abord la matrice contenant tous vos points avec `np.zeros`, puis utilisez `np.random.uniform(lower, upper, size)` séparément pour les valeurs de $x_1$ et $x_2$ selon les critères ci-dessus. \n",
    "\n",
    "**Indice 2 :** Pour choisir un sous-ensemble des points qui doit être de la catégorie opposée, vous pouvez par ex. utiliser `np.random.choice(n, size=n//2 replace=False)` pour déterminer des indices tirés aléatoirement parmi les `n` points, que vous pouvez utiliser pour attribuer/changer la catégorie pour la moitié des points. (Pour l'utilisation de `np.random.choice`, voir aussi TD5/DM5 .) D'autres manières de faire existent et seront bien sûr également acceptés."
   ]
  },
  {
   "cell_type": "code",
   "execution_count": 1,
   "metadata": {
    "cell_id": "00003-cca327a8-5b7e-4e26-a521-3809937144de",
    "deepnote_cell_type": "code",
    "deepnote_output_heights": [
     21.1875,
     265.984375
    ],
    "deepnote_to_be_reexecuted": false,
    "execution_millis": 1381,
    "execution_start": 1639585855502,
    "source_hash": "d77dcb46"
   },
   "outputs": [],
   "source": [
    "# votre code"
   ]
  },
  {
   "cell_type": "markdown",
   "metadata": {},
   "source": [
    "### E.2 : Algorithme d'apprentissage du Perceptron\n",
    "\n",
    "Maintenant, il faut apprendre les poids $w_1, w_2$ et le seuil $b$ du Perceptron pour correctément classifier ces points. Au lieu d'afficher graphiquement l'avancement de l'apprentissage et de la performance, nous allons mesurer la progression en calculant l'erreur $e$ faite dans la classification sur l'ensemble des points déjà présentés, selon la formule\n",
    "$$e = \\frac{1}{2M} \\sum_i^M |\\hat y^{(M)}_i - y_i|,$$\n",
    "où $M$ est le nombre des points déjà considérés ($M\\leq n$), et où $\\hat y^{(M)}_i\\in\\{-1,1\\}$ est la classification faite par le perceptron du point $i$ avec les paramètres actuels, c'est-à-dire après la présentation des $M$ points. Enfin, les $y_i\\in\\{-1,1\\}$ sont les vraies catégories. \n",
    "\n",
    "Avec cette définition, une classification correcte de tous les points donnerait $e=0$, et une classification arbitraire (la moitié des points est classifiée correctement) donnerait $e=0.5$\n",
    "\n",
    "En suivant l'exemple du cours, implémentez l'algorithme d'apprentissage du Perceptron avec un taux d'apprentissage $\\eta=0.1$, et suivez la performance en calculant l'erreur rélative définie ci-dessus après chaque itération. Plottez l'erreur rélative $e$ en fonction du temps à la fin de l'apprentissage."
   ]
  },
  {
   "cell_type": "code",
   "execution_count": 2,
   "metadata": {
    "cell_id": "00004-a3331370-7966-4ada-9772-2e5aa929bef2",
    "deepnote_cell_type": "code",
    "deepnote_output_heights": [
     21.1875,
     265.984375
    ],
    "deepnote_to_be_reexecuted": false,
    "execution_millis": 974,
    "execution_start": 1639585857407,
    "source_hash": "3ba1272f",
    "tags": []
   },
   "outputs": [],
   "source": [
    "# ... votre code ..."
   ]
  },
  {
   "cell_type": "markdown",
   "metadata": {
    "cell_id": "00004-9539cf32-05af-4246-9cd8-bc10d7d1e750",
    "deepnote_cell_type": "markdown"
   },
   "source": [
    "### E.3 : Étude des paramètres : $\\eta$\n",
    "\n",
    "Comparez la performance de l'algorithme pour différentes valeurs de $\\eta$, `etas = [0.02, 0.05, 0.1, 0.2, 0.5]` (toujours pour `a = 0.1`). Pour cela, plottez l'évolution de l'erreur rélative ensemble dans un seul plot.\n",
    "\n",
    "Pour rendre la tâche systématique est comparable, commencez toujours avec les mêmes valeurs initiales pour les paramètres : `w = np.array([1,-1])` et `b = 0`. "
   ]
  },
  {
   "cell_type": "code",
   "execution_count": 3,
   "metadata": {
    "cell_id": "00005-f82ff83a-8aa7-4c00-a8cc-495a66f3df5b",
    "deepnote_cell_type": "code",
    "deepnote_output_heights": [
     21.1875,
     249.984375
    ],
    "deepnote_to_be_reexecuted": false,
    "execution_millis": 1260,
    "execution_start": 1639585862979,
    "source_hash": "430b4012"
   },
   "outputs": [],
   "source": [
    "# ... votre code ..."
   ]
  },
  {
   "cell_type": "markdown",
   "metadata": {
    "cell_id": "00004-9539cf32-05af-4246-9cd8-bc10d7d1e750",
    "deepnote_cell_type": "markdown"
   },
   "source": [
    "### E.4 : Étude de l'influence de la \"séparabilité\" des points\n",
    "\n",
    "Comparez la performance de l'algorithme pour différentes valeurs de $a$, `as = [0, 0.02, 0.05, 0.1, 0.2]`, toujours pour le même taux d'apprentissage `eta = 0.1`.  (Notez que cela vous oblige à générer chaque fois un nouvel ensemble de données d'entraînement.) Pour comparez, plottez l'évolution de l'erreur rélative pour chaque cas ensemble dans un seul plot. \n",
    "\n",
    "Pour rendre la tâche systématique est comparable, commencez toujours avec les mêmes valeurs initiales pour les paramètres : `w = np.array([1,-1])` et `b = 0`. "
   ]
  },
  {
   "cell_type": "code",
   "execution_count": 4,
   "metadata": {},
   "outputs": [],
   "source": [
    "# ... votre code ...\n"
   ]
  }
 ],
 "metadata": {
  "deepnote": {},
  "deepnote_execution_queue": [],
  "deepnote_notebook_id": "b43ddc84-7085-4203-8491-d9e9c13b4949",
  "kernelspec": {
   "display_name": "Python 3",
   "language": "python",
   "name": "python3"
  },
  "language_info": {
   "codemirror_mode": {
    "name": "ipython",
    "version": 3
   },
   "file_extension": ".py",
   "mimetype": "text/x-python",
   "name": "python",
   "nbconvert_exporter": "python",
   "pygments_lexer": "ipython3",
   "version": "3.7.3"
  }
 },
 "nbformat": 4,
 "nbformat_minor": 4
}
