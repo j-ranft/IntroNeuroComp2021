{
 "cells": [
  {
   "cell_type": "markdown",
   "metadata": {
    "cell_id": "00000-ddc6e670-3626-4392-aceb-1f387ff5ef9f",
    "deepnote_cell_type": "markdown"
   },
   "source": [
    "# TD 5 : Le réseau de Hopfield\n",
    "---\n",
    "\n",
    "Le modèle de Hopfield était pionnier pour décrire la capacité d'un réseau de neurone à rétenir des motifs en mémoire via ses connexions synaptiques, et des mécanismes de récupération de cette mémoire à partir d'un petit indice via une dynamique d'attracteur.\n",
    "\n",
    "\n",
    "### La définition du modèle\n",
    "\n",
    "Dans sa définition probabiliste, la dynamique du réseau est décrite par les équations suivantes :\n",
    "\n",
    " 0. L'activité d'un neurone $i$ (parmi $N$ neurones en total) dans un interval de temps $[t, t+\\Delta t]$ est décrit par une variable binaire $S_i(t)\\in \\{-1,1\\}$. Si le neurone est actif dans cet interval, $S_i(t)=1$, sinon $S_i(t)=-1$.\n",
    " \n",
    " \n",
    " 1. La matrice de connectivité étant donnée par $w_{ij}$, chaque neurone reçoit une entrée \n",
    "    $$h_i(t) = \\sum_{j=1\\ldots N} w_{ij}S_j(t)$$\n",
    "    au temps $t$, qui dépend des poids synaptiques entre les neurones présynaptiques $j$ et le neurone postsynaptique $i$ ainsi que l'état des neurones présynaptiques à temps $t$.\n",
    "    \n",
    "    \n",
    " 2. A chaque pas de temps, l'état de chaque neurone $S_i$, $i=1\\ldots N$, est mis à jour en fonction de l'état de tous les neurones au temps précédent via les entrées qu'il reçoit. La probabilité que le neurone est actif est donnée par\n",
    "    $${\\rm prob}[S_i(t+\\Delta t) = 1] = g(h_i(t)),$$\n",
    "    où la fonction de gain $g$ est souvent choisie comme\n",
    "    $$g(h_i) = \\frac{1}{1+e^{-\\beta h_i}}.$$\n",
    "    (La probabilité que $S_i(t+\\Delta t) = 1$ est donnée par $1-g(h_i)$.) Dans l'expression donnée pour $g$, $\\beta$ joue le rôle d'une témperature inverse : dans la limite $\\beta\\to\\infty$, la dynamique devient déterministe, et $S_i(t+\\Delta t) = 1$ si $h_i(t)>0$, et $S_i(t+\\Delta t) = -1$ si $h_i(t)>0$.\n",
    "\n",
    "\n",
    "Le réseau de Hopfield peut stocker des *motifs* qui correspondent à l'activité spécifique d'un sous-ensemble de neurones ; on dit qu'un motif est réproduit par le réseau si l'*overlap* entre l'état du réseau et le motif est proche de 1. Les motifs étant définis comme \n",
    "$$ P_i^\\mu \\in \\{-1,1\\},\\, i=1\\ldots N,\\,\\mu=1\\ldots K,$$\n",
    "l'**overlap** $m^\\nu(t)$ entre le motif $\\nu$ et l'état du réseau à temps $t$ est donné par\n",
    "$$ m^\\nu(t) = \\frac{1}{N}\\sum_{i=1\\ldots N} P^\\nu_i S_i(t).$$\n",
    "\n",
    "\n",
    "### La matrice de connectivité\n",
    "\n",
    "Comment choisir la matrice de connectivité pour que le réseau évolue vers un motif \"enregistré\" ?\n",
    "\n",
    "La solution proposée par Hopfield consiste à utiliser la connectivité suivante :\n",
    "\n",
    "$$ w_{ij} = \\frac{1}{N}\\sum_{\\mu=1\\ldots K} P_i^\\mu P_j^\\mu .$$\n",
    "\n",
    "(De manière générale, les connexions entre un neurone et lui-même, caracterisé par $w_{ii}$, ne sont pas admises, c'est-à-dire on enforce $w_{ii}=0$ après application de la connectivité ci-dessus.) \n",
    "\n",
    "Puisque les $P_i^\\mu\\in\\{-1,1\\}$, s'il n'y a qu'un seul motif ($K=1$), alors les poids prennnent également juste deux valeurs, $w_{ij}\\in \\{-1/N,1/N\\}$. Par contre, si le nombre de motifs augmente ($K>1$), cela n'est plus vrai et les poids (toujours obéissant cette définition) peuvent prendre des valeurs différentes entre $[-K/N,K/N]$."
   ]
  },
  {
   "cell_type": "markdown",
   "metadata": {
    "cell_id": "00001-8863ebe2-efa4-4f50-8467-16fd4cc9873f",
    "deepnote_cell_type": "markdown"
   },
   "source": [
    "### Exercise 1 : Le rôle de l'overlap\n",
    "\n",
    "1. Montrez qu'avec les définitions de $h_i$ et $w_{ij}$ ci-dessus, la dynamique peut être  exprimé en fonction des overlaps respectifs avec les différents motifs,\n",
    "$${\\rm prob}[S_i(t+\\Delta t) = 1] = g(\\sum_{\\mu=1\\ldots K} P_i^\\mu m^\\mu(t)).$$\n",
    "\n",
    "Cela revient à dire que $h_i(t) = \\sum_{\\mu=1\\ldots K} P_i^\\mu m^\\mu(t)$."
   ]
  },
  {
   "cell_type": "code",
   "execution_count": null,
   "metadata": {
    "cell_id": "00002-7ae374bf-f2ef-4aef-b923-c0fb12e0852f",
    "deepnote_cell_type": "code",
    "deepnote_to_be_reexecuted": false,
    "execution_start": 1638973932796,
    "source_hash": "a13e696c"
   },
   "outputs": [],
   "source": [
    "# Calcul sur papier..."
   ]
  },
  {
   "cell_type": "markdown",
   "metadata": {
    "cell_id": "00003-a0a10651-8a4d-4ca3-85ab-4603d58a8a35",
    "deepnote_cell_type": "markdown",
    "tags": []
   },
   "source": [
    "$\\begin{aligned}\n",
    "\\sum_\\mu P^\\mu_im^\\mu(t) &= \\sum_\\mu P^\\mu_i \\sum_j P^\\mu_j S_j(t) \\\\\n",
    "&= \\sum_j  \\sum_\\mu P^\\mu_i P^\\mu_j S_j(t) \\\\\n",
    "&= \\sum_j  \\underbrace{\\sum_\\mu P^\\mu_i P^\\mu_j}_{w_{ij}} S_j(t) \\\\\n",
    "&= \\sum_j  w_{ij} S_j(t)\n",
    "\\end{aligned}$"
   ]
  },
  {
   "cell_type": "markdown",
   "metadata": {
    "cell_id": "00003-d216554d-0b2d-4d89-97d4-1e176937a4ae",
    "deepnote_cell_type": "markdown"
   },
   "source": [
    "2. S'il n'y a qu'un seul motif ($K=1$), comment est-ce que l'état d'un neurone $i$ évolue par rapport à sa valeur dans le motif $P_i$ pour :\n",
    "    * un overlap positif, m>0 ?\n",
    "    * un overlap zéro, m=0 ?\n",
    "    * un overlap négatif, m<0 ?\n",
    "    \n",
    "   Comment est-ce que l'overlap va évoluer en retour ?\n",
    "\n",
    "   $${\\rm prob}[S_i(t+\\Delta t) = 1] = g( P_i m(t)).$$\n",
    "    "
   ]
  },
  {
   "cell_type": "code",
   "execution_count": null,
   "metadata": {
    "cell_id": "00004-f32bbccc-5aa5-41a1-8d3d-5081f57771ab",
    "deepnote_cell_type": "code"
   },
   "outputs": [],
   "source": [
    "# Ecrivez votre réponse"
   ]
  },
  {
   "cell_type": "markdown",
   "metadata": {},
   "source": [
    "Pour $m>0$, les $S_i$ auront tendance à s'aligner sur les $P_i$, indépendamment de leur valeur précédante. Si l'overlap augmente ou diminue dépend de la valeur de $m$, et du paramètre $\\beta$, mais en moyenne il ne pourra pas changer de signe. \n",
    "\n",
    "_**Remarque :** On peut calculer l'overlap moyen finale $m^*$ que $m$ va approcher par le bas ou par le haut, si l'on suppose que cet overlap est donné (en moyenne) par_ \n",
    "$$m^*=\\frac{1}{N}\\sum_i [ prob(S_i=1) P_i + prob(S_i-1) P_i]$$ \n",
    "_où $prob(S_i=1) = g(P_i m^*)$. On trouve alors une équation que doit obéir $m^*$,_\n",
    "$$m^*=\\tanh(\\frac{\\beta m^*}{2}),$$\n",
    "_qu'il faut résoudre numériquement pour déterminer la valeur de $m^*$._\n",
    "\n",
    "Si $\\beta=\\infty$ et il n'y qu'un motif, les $S_i$ vont s'aligner parfaitement avec les $P_i$, et $m=1$ à la prochaine itération.\n",
    "\n",
    "Pour $m=0$, l'état du réseau sera complètement aléatoire, et la valeur de $m$ sera proche de 0 à la prochaine itération (positif ou négatif en fonction du tirage au sort des $S_i$).\n",
    "\n",
    "Pour $m<0$, la situation corréspond à $m>0$ avec tous les signes inversés, c'est-à-dire les $S_i$ auront tendance à s'aligner sur les $-P_i$, etc.\n",
    "\n",
    "_**Remarque :** L'overlap _"
   ]
  },
  {
   "cell_type": "markdown",
   "metadata": {
    "cell_id": "00005-28070f5f-54ad-42cd-80b9-f39f1f44f505",
    "deepnote_cell_type": "markdown"
   },
   "source": [
    "3. Dans le cas avec plusieurs motifs ($K>1$), supposez qu'il y a un motif $\\nu$ pour lequel l'overlap $m^\\nu$ est positif et non-négligeable, pendant que les autres overlaps $m^\\mu$, $\\mu\\neq\\nu$, sont proches de 0. Comment pensez-vous vont évoluer les états $S_i$ des différents neurones par rapport au motif $\\nu$ ? Pouvez-vous justifier votre intuition ?\n",
    "\n",
    "$${\\rm prob}[S_i(t+\\Delta t) = 1] = g(\\sum_{\\mu=1\\ldots K} P_i^\\mu m^\\mu(t))\\approx g( P_i^\\nu m^\\nu(t))$$"
   ]
  },
  {
   "cell_type": "code",
   "execution_count": null,
   "metadata": {
    "cell_id": "00006-4e2b0ca3-4600-4f9a-a7e4-66d7e7f327b3",
    "deepnote_cell_type": "code"
   },
   "outputs": [],
   "source": [
    "# Ecrivez votre réponse"
   ]
  },
  {
   "cell_type": "markdown",
   "metadata": {},
   "source": [
    "Dans ce cas, les autres motifs vont jouer le rôle d'un bruit, voir ci-dessous. Si ce bruit est suffisamment faible et les motifs indépendants (non-correlés), l'argumentation pour un seul motif s'applique à nouveau."
   ]
  },
  {
   "cell_type": "markdown",
   "metadata": {
    "cell_id": "00007-c03182cb-126f-4f0c-bbbb-06164eefbc81",
    "deepnote_cell_type": "markdown"
   },
   "source": [
    "## Hopfield en action !\n",
    "\n"
   ]
  },
  {
   "cell_type": "markdown",
   "metadata": {
    "cell_id": "00008-0db27b70-5721-43ea-9fd4-41480bf67f10",
    "deepnote_cell_type": "markdown"
   },
   "source": [
    "### Exercise 2 : L'évolution du réseau dans le temps\n",
    "\n",
    "1. Implémentez les mises à jour consécutives de l'état du réseau à partir de l'état initial ci-dessous, pour une valeur de $\\beta=1$. Affichez, à chacune des 5 itérations, l'état du réseau comme image, et plottez à la fin l'overlap $m^0$ avec le motif en fonction du temps.\n",
    "\n",
    "**Remarques :** La taille du réseau (le nombre de neurones) est donné par `N`, le motif est donnée par `P0`, et la matrice de connectivité (qui est determinée à partir de ce motif) est donnée par `W`. Enfin, l'état initial du réseau est donnée par `S[0]`, et choisi tel qu'il y a un overlap partiel entre cet état initial et le motif que nous souhaitons récupérer. \n",
    "\n",
    "\n",
    "**Astuces :** Ci-dessous, vous trouvez également des exemples comment (1) faire une multiplication de matrice de manière efficace utilisant les fonctionnalités de `numpy`, et (2) comment tirer un nombre aléatoire -1 ou 1 pour une probabilité $p$ pour 1 (et par conséquence probabilité 1-p pour -1).\n",
    "\n",
    "\n",
    "2. Comment est-ce que la dynamique et l'état final changent si vous diminuez (augmentez) $\\beta$ ? \n",
    "\n",
    "\n",
    "3. Quel est l'état final du réseau si vous commencez avec un overlap initial plus petit (par ex. limité au 100 premiers neurones) ? Si vous commencez avec un état complètement aléatoire ?"
   ]
  },
  {
   "cell_type": "code",
   "execution_count": null,
   "metadata": {
    "cell_id": "00009-0e5d5631-6fdb-4b50-878d-f840f0960631",
    "deepnote_cell_type": "code",
    "deepnote_to_be_reexecuted": false,
    "execution_millis": 4977,
    "execution_start": 1638975894189,
    "source_hash": "ffab3ea3"
   },
   "outputs": [],
   "source": [
    "# imports \n",
    "import numpy as np\n",
    "import matplotlib.pyplot as plt\n",
    "%matplotlib inline"
   ]
  },
  {
   "cell_type": "code",
   "execution_count": null,
   "metadata": {
    "cell_id": "00010-702a1ec6-77b4-4c8f-bf9a-c9d63ffb9480",
    "deepnote_cell_type": "code",
    "deepnote_output_heights": [
     null,
     21.1875,
     252.984375
    ],
    "deepnote_to_be_reexecuted": false,
    "execution_millis": 704,
    "execution_start": 1638975899182,
    "source_hash": "b15f05"
   },
   "outputs": [
    {
     "name": "stdout",
     "output_type": "stream",
     "text": [
      "the shape of the image data is  (64, 64)\n"
     ]
    },
    {
     "data": {
      "text/plain": [
       "<matplotlib.image.AxesImage at 0x7f6fc5ef9ad0>"
      ]
     },
     "execution_count": 3,
     "metadata": {},
     "output_type": "execute_result"
    },
    {
     "data": {
      "image/png": "[encoded data removed]",
      "text/plain": [
       "<Figure size 432x288 with 1 Axes>"
      ]
     },
     "metadata": {
      "image/png": {
       "height": 251,
       "width": 251
      },
      "needs_background": "light"
     },
     "output_type": "display_data"
    }
   ],
   "source": [
    "# import an image that we will use as first motif\n",
    "img = np.loadtxt('smiley.dat')\n",
    "print('the shape of the image data is ', img.shape)\n",
    "plt.imshow(img, cmap='Greys_r')"
   ]
  },
  {
   "cell_type": "code",
   "execution_count": null,
   "metadata": {
    "cell_id": "00011-c02b2017-4be3-4c59-9370-68539c57ae03",
    "deepnote_cell_type": "code",
    "deepnote_to_be_reexecuted": false,
    "execution_millis": 65,
    "execution_start": 1638975986890,
    "source_hash": "e127535c"
   },
   "outputs": [],
   "source": [
    "# create our Hopfield net\n",
    "# -----------------------\n",
    "\n",
    "# convert the 2D pixel matrix to a 1D pattern vector\n",
    "nx, ny = img.shape\n",
    "P0 = img.flatten()\n",
    "\n",
    "# the network size is given by the length of the pattern\n",
    "N = len(P0)\n",
    "\n",
    "# for a single pattern, the weight matrix is given by\n",
    "W = P0[:,None] * P0[None,:] / N\n",
    "\n",
    "# enforce empty diagonal (no self-connections)\n",
    "W[np.arange(N),np.arange(N)] = 0"
   ]
  },
  {
   "cell_type": "code",
   "execution_count": null,
   "metadata": {
    "cell_id": "00013-6c97be51-89cb-45e4-844f-0c3982eb53f8",
    "deepnote_cell_type": "code",
    "deepnote_output_heights": [
     21.1875
    ],
    "deepnote_to_be_reexecuted": false,
    "execution_millis": 14,
    "execution_start": 1638976078053,
    "source_hash": "d214f8a5",
    "tags": []
   },
   "outputs": [
    {
     "data": {
      "text/plain": [
       "(4096, 4096)"
      ]
     },
     "execution_count": 7,
     "metadata": {},
     "output_type": "execute_result"
    }
   ],
   "source": [
    "W.shape"
   ]
  },
  {
   "cell_type": "code",
   "execution_count": null,
   "metadata": {
    "cell_id": "00012-5253c215-3784-45b8-92cd-0dfcfc533eb1",
    "deepnote_cell_type": "code",
    "deepnote_to_be_reexecuted": false,
    "execution_millis": 1,
    "execution_start": 1638976195910,
    "source_hash": "ec1ed9e2"
   },
   "outputs": [],
   "source": [
    "# define some useful functions you can use below\n",
    "# ----------------------------------------------\n",
    "\n",
    "# gain function\n",
    "def g(h, beta=1.):\n",
    "    \"\"\"Gain function: probability of a neuron to be \n",
    "    in the active state given the input h, for a \n",
    "    given value of beta (default value 1).\"\"\"\n",
    "    return 1/(1+np.exp(-beta*h))\n",
    "\n",
    "\n",
    "# overlap between a given pattern and a state\n",
    "def overlap(state, pattern):\n",
    "    return sum(state*pattern)/N\n",
    "\n",
    "\n",
    "# a plot function to easily plot the \n",
    "# network state as an image\n",
    "def plot_state(state):\n",
    "    plt.imshow(state.reshape((nx,ny)), cmap='Greys_r')\n",
    "    plt.pause(1)"
   ]
  },
  {
   "cell_type": "code",
   "execution_count": null,
   "metadata": {
    "cell_id": "00013-49f559ff-622e-4158-9911-64b4688bc77c",
    "deepnote_cell_type": "code",
    "deepnote_output_heights": [
     252.984375
    ],
    "deepnote_to_be_reexecuted": false,
    "execution_millis": 1619,
    "execution_start": 1638976199647,
    "source_hash": "dfe9a9d7"
   },
   "outputs": [
    {
     "data": {
      "image/png": "[encoded data removed]",
      "text/plain": [
       "<Figure size 432x288 with 1 Axes>"
      ]
     },
     "metadata": {
      "image/png": {
       "height": 251,
       "width": 251
      },
      "needs_background": "light"
     },
     "output_type": "display_data"
    }
   ],
   "source": [
    "# afficher le motif nous avons encodé \n",
    "# dans la matrice de connectivité\n",
    "plot_state(P0)"
   ]
  },
  {
   "cell_type": "code",
   "execution_count": null,
   "metadata": {
    "cell_id": "00014-cc905e36-7e35-4735-90e2-fc18819d0139",
    "deepnote_cell_type": "code",
    "deepnote_output_heights": [
     252.984375
    ],
    "deepnote_to_be_reexecuted": false,
    "execution_millis": 1442,
    "execution_start": 1638979640257,
    "source_hash": "81864264"
   },
   "outputs": [
    {
     "data": {
      "image/png": "[encoded data removed]",
      "text/plain": [
       "<Figure size 432x288 with 1 Axes>"
      ]
     },
     "metadata": {
      "image/png": {
       "height": 251,
       "width": 251
      },
      "needs_background": "light"
     },
     "output_type": "display_data"
    },
    {
     "name": "stdout",
     "output_type": "stream",
     "text": [
      "0.11572265625\n"
     ]
    }
   ],
   "source": [
    "# start from noisy pattern and iterate \n",
    "# over time\n",
    "\n",
    "# number of time steps\n",
    "nt = 5\n",
    "\n",
    "# create state array for all times\n",
    "S = np.ones((nt,N))\n",
    "\n",
    "# noisy initial state\n",
    "# NOTE: values must be either -1 or 1\n",
    "S[0] = 2*np.round(np.random.uniform(size=N)) - 1\n",
    "\n",
    "# add partial overlap to the initial state\n",
    "nover = 400\n",
    "inds = np.random.choice(N,size=nover,replace=False)\n",
    "\n",
    "S[0,inds] = P0[inds]\n",
    "\n",
    "plot_state(S[0])\n",
    "print(overlap(S[0],P0))"
   ]
  },
  {
   "cell_type": "code",
   "execution_count": null,
   "metadata": {
    "cell_id": "00015-2595f4ac-f253-473b-86e6-b0b4c24404e1",
    "deepnote_cell_type": "code",
    "deepnote_to_be_reexecuted": false,
    "execution_millis": 21,
    "execution_start": 1638979020880,
    "source_hash": "b7f5853c"
   },
   "outputs": [
    {
     "name": "stdout",
     "output_type": "stream",
     "text": [
      "[5. 8.]\n",
      "[5 8]\n"
     ]
    }
   ],
   "source": [
    "# Astuce 1 : produit d'une matrice avec un vecteur\n",
    "\n",
    "# une matrice\n",
    "A = np.array([[1,2],\n",
    "              [2,3]])\n",
    "\n",
    "# un vecteur\n",
    "b = np.array([1,2])\n",
    "\n",
    "# le produit y = A.b\n",
    "\n",
    "# 1) avec des boucles for\n",
    "y = np.zeros(2)\n",
    "for i in range(2):\n",
    "    for j in range(2):\n",
    "        y[i] += A[i,j]*b[j]\n",
    "print(y)\n",
    "\n",
    "# 2) avec numpy\n",
    "y = A.dot(b) # <-------- w.S\n",
    "print(y)"
   ]
  },
  {
   "cell_type": "code",
   "execution_count": null,
   "metadata": {
    "cell_id": "00016-e056b5a0-c24a-42bc-9c16-a2a5840a0348",
    "deepnote_cell_type": "code",
    "deepnote_to_be_reexecuted": false,
    "execution_millis": 24,
    "execution_start": 1638979022354,
    "source_hash": "34781300"
   },
   "outputs": [
    {
     "name": "stdout",
     "output_type": "stream",
     "text": [
      "une seule valeur :\n",
      "False -1\n",
      "un array de plusieurs valeurs à la fois :\n",
      "[False False  True False  True False  True False  True  True] [-1 -1  1 -1  1 -1  1 -1  1  1]\n"
     ]
    }
   ],
   "source": [
    "# Astuce 2 : nombre aléatoire -1 ou 1 en fonction de \n",
    "# la probabilité p pour 1. pour cela, il faut\n",
    "\n",
    "p = 0.5 # exemple\n",
    "\n",
    "# (1) comparer une nombre aléatoire entre [0,1) à p\n",
    "is_up = np.random.rand() < p\n",
    "\n",
    "# (2) transformer le résultat (True ou False) en 1 ou -1s = 2*int(is_up) - 1\n",
    "s = 2*is_up - 1\n",
    "\n",
    "print('une seule valeur :')\n",
    "print(is_up, s)\n",
    "\n",
    "# cela marche aussi pour beaucoup de valeurs en parallèle\n",
    "is_up = np.random.rand(10) < p \n",
    "\n",
    "s = 2*is_up - 1\n",
    "print('un array de plusieurs valeurs à la fois :')\n",
    "print(is_up, s)\n"
   ]
  },
  {
   "cell_type": "code",
   "execution_count": null,
   "metadata": {
    "cell_id": "00017-4d7dd987-cbe3-46c2-9637-38ab11fee589",
    "deepnote_cell_type": "code",
    "deepnote_output_heights": [
     252.984375,
     252.984375,
     252.984375,
     252.984375
    ],
    "deepnote_to_be_reexecuted": false,
    "execution_millis": 6149,
    "execution_start": 1638979652053,
    "source_hash": "3eec3dfb"
   },
   "outputs": [
    {
     "data": {
      "image/png": "[encoded data removed]",
      "text/plain": [
       "<Figure size 432x288 with 1 Axes>"
      ]
     },
     "metadata": {
      "image/png": {
       "height": 251,
       "width": 251
      },
      "needs_background": "light"
     },
     "output_type": "display_data"
    },
    {
     "data": {
      "image/png": "[encoded data removed]",
      "text/plain": [
       "<Figure size 432x288 with 1 Axes>"
      ]
     },
     "metadata": {
      "image/png": {
       "height": 251,
       "width": 251
      },
      "needs_background": "light"
     },
     "output_type": "display_data"
    },
    {
     "data": {
      "image/png": "[encoded data removed]",
      "text/plain": [
       "<Figure size 432x288 with 1 Axes>"
      ]
     },
     "metadata": {
      "image/png": {
       "height": 251,
       "width": 251
      },
      "needs_background": "light"
     },
     "output_type": "display_data"
    },
    {
     "data": {
      "image/png": "[encoded data removed]",
      "text/plain": [
       "<Figure size 432x288 with 1 Axes>"
      ]
     },
     "metadata": {
      "image/png": {
       "height": 251,
       "width": 251
      },
      "needs_background": "light"
     },
     "output_type": "display_data"
    }
   ],
   "source": [
    "# la dynamique du réseau\n",
    "# ======================\n",
    "\n",
    "# On connait S[0] (état initial)\n",
    "# --> on veut connaître S[1], S[2], ..., S[nt-1]\n",
    "beta = 5\n",
    "\n",
    "for it in range(nt-1):\n",
    "    # S[it+1] = ?\n",
    "\n",
    "    # 1) calculer les entrées synaptiques\n",
    "    h = W.dot(S[it])\n",
    "    # h.shape = (N,) \n",
    "\n",
    "    # 2) déterminer la probabilité pour chaque neurone d'être +1\n",
    "    p = g(h, beta)\n",
    "\n",
    "    # 3) tirage au sort des nouveaux S_i\n",
    "    is_up = np.random.uniform(size=N) < p\n",
    "    \n",
    "    # +1 si is_up is True, -1 si False\n",
    "    S[it+1] = 2*is_up - 1 \n",
    "\n",
    "    # 4) ... \n",
    "    plot_state(S[it+1])\n"
   ]
  },
  {
   "cell_type": "markdown",
   "metadata": {
    "cell_id": "00018-97c86bfa-377b-4845-bf99-edfdb8c3bc7d",
    "deepnote_cell_type": "markdown"
   },
   "source": [
    "### Exercise 3 : La capacité du réseau \n",
    "\n",
    "Sous la condition que les différents motifs à retenir ne sont pas corrélés, la capacité d'un réseau de taille $N$ est donné par $c_{\\rm crit} = 0.138$. \n",
    "\n",
    "1. Jusqu'à combien de motifs $K$ peut-on stocker dans le réseau que vous avez simulé ci-dessus ? \n",
    "\n",
    "\n",
    "Du point de vue d'un motif donné, l'effet des autres $K-1$ motifs sur les connectivités synaptiques revient à un bruit supplémentaire correspondant à la somme de $K-1$ nombres aléatoires d'une valeur $-1/N$ ou $1/N$ à probabilité égale.  \n",
    "\n",
    "$\\begin{aligned}\n",
    "w_{ij} &= \\frac{1}{N}\\sum_\\mu P^\\mu_i P^\\mu_j \\quad (i\\neq j) \\\\\n",
    "&= \\frac{1}{N} P^0_i P^0_j  + \\frac{1}{N}\\sum_{\\mu\\neq 0} P^\\mu_i P^\\mu_j \\quad (i\\neq j)\n",
    "\\end{aligned}$\n",
    "\n",
    "2. Quel est la moyenne et l'écart-type pour une somme de $M$ valeurs aléatoires $x_k \\in \\{-a,a\\}$ (où $-a$ et $a$ ont la probabilité 0.5 chacune) ? Pour $M\\gg1$, quelle distribution suivent les $X=\\sum_{k=1\\ldots M}x_k$ ?\n",
    "\n",
    "\n",
    "3. Montrez qu'en ajoutant des valeurs aléatoires qui correspondent à $K-1$ d'autres motifs à la matrice de connectivité, où $K<K_{\\rm max}$, le motif initial peut toujours être récupéré. \n",
    "\n",
    "\n",
    "4. Qu'est-ce qui se passe si vous rajoutez un bruit qui correspond à un nombre de motifs au-dela de la capacité de stockage ?"
   ]
  },
  {
   "cell_type": "code",
   "execution_count": null,
   "metadata": {
    "cell_id": "00019-7c7104c9-8233-411d-900e-7760c13eb4c0",
    "deepnote_cell_type": "code",
    "deepnote_to_be_reexecuted": false,
    "execution_millis": 18,
    "execution_start": 1638979383638,
    "source_hash": "98122e94"
   },
   "outputs": [
    {
     "name": "stdout",
     "output_type": "stream",
     "text": [
      "Nous pouvons stocker ~ 565 motifs dans notre réseau\n"
     ]
    }
   ],
   "source": [
    "print('Nous pouvons stocker ~ %d motifs dans notre réseau'%(0.138*N))"
   ]
  },
  {
   "cell_type": "code",
   "execution_count": null,
   "metadata": {
    "cell_id": "00022-336a4100-10ba-48d4-aa27-2aa8d4233d9a",
    "deepnote_cell_type": "code",
    "deepnote_output_heights": [
     136.421875,
     249.984375
    ],
    "deepnote_to_be_reexecuted": false,
    "execution_millis": 47,
    "execution_start": 1638981437106,
    "source_hash": "4da24b64",
    "tags": []
   },
   "outputs": [],
   "source": [
    "# Point 2\n",
    "# -------\n",
    "\n",
    "# moyenne de X ?\n",
    "M = 200\n",
    "a = 1\n",
    "\n",
    "X_moyenne = 0.0\n",
    "# X_moyenne = M*[p(-a)*(-a) + p(a)*a] = 0\n",
    "\n",
    "# X_variance = [p(-a)*(-a)**2 + p(a)*a**2]\n",
    "# = 0.5*M*[a**2 + a**2] = a**2\n",
    "X_variance = M*a**2\n",
    "\n",
    "# X_ecart_tye = np.sqrt(X_variance)\n",
    "X_ecart_type= np.sqrt(M)*a\n",
    "\n",
    "nrepeat = 3000\n",
    "x = a * (2 * (np.random.uniform(size=(nrepeat,M))<0.5) - 1)\n",
    "X = np.sum(x, axis=1)\n"
   ]
  },
  {
   "cell_type": "code",
   "execution_count": null,
   "metadata": {
    "cell_id": "00023-2332d61e-bce6-47ab-be5e-f106210129d4",
    "deepnote_cell_type": "code",
    "deepnote_output_heights": [
     194.03125
    ],
    "deepnote_to_be_reexecuted": false,
    "execution_millis": 19,
    "execution_start": 1638981260995,
    "source_hash": "af47d368",
    "tags": []
   },
   "outputs": [
    {
     "data": {
      "text/plain": [
       "array([[-2, -2,  2, -2, -2,  2, -2,  2, -2,  2],\n",
       "       [-2,  2,  2,  2,  2, -2,  2, -2,  2,  2],\n",
       "       [ 2,  2,  2,  2, -2,  2,  2,  2,  2, -2],\n",
       "       [-2,  2, -2, -2,  2, -2, -2, -2,  2,  2],\n",
       "       [ 2, -2, -2, -2,  2, -2,  2,  2, -2, -2],\n",
       "       [-2,  2, -2, -2,  2, -2, -2,  2,  2,  2],\n",
       "       [ 2,  2, -2,  2,  2,  2, -2, -2, -2,  2],\n",
       "       [-2,  2,  2,  2, -2, -2,  2, -2, -2,  2],\n",
       "       [ 2,  2, -2,  2,  2, -2, -2,  2, -2, -2],\n",
       "       [-2, -2, -2,  2,  2,  2, -2, -2, -2, -2]])"
      ]
     },
     "execution_count": 47,
     "metadata": {},
     "output_type": "execute_result"
    }
   ],
   "source": [
    "x[:10,:10]"
   ]
  },
  {
   "cell_type": "code",
   "execution_count": null,
   "metadata": {
    "cell_id": "00024-ff6dfdb6-0ed9-4f7c-8023-7286f03503cb",
    "deepnote_cell_type": "code",
    "deepnote_output_heights": [
     21.1875,
     249.984375
    ],
    "deepnote_to_be_reexecuted": false,
    "execution_millis": 504,
    "execution_start": 1638981443689,
    "source_hash": "a7786861",
    "tags": []
   },
   "outputs": [
    {
     "data": {
      "text/plain": [
       "<matplotlib.lines.Line2D at 0x7f6faeb14a50>"
      ]
     },
     "execution_count": 55,
     "metadata": {},
     "output_type": "execute_result"
    },
    {
     "data": {
      "image/png": "[encoded data removed]",
      "text/plain": [
       "<Figure size 432x288 with 1 Axes>"
      ]
     },
     "metadata": {
      "image/png": {
       "height": 248,
       "width": 375
      },
      "needs_background": "light"
     },
     "output_type": "display_data"
    }
   ],
   "source": [
    "\n",
    "fig, ax = plt.subplots()\n",
    "ax.hist(X, bins=20)\n",
    "ax.axvline(X_moyenne, c='r', lw=3)\n",
    "ax.axvline(X_moyenne - X_ecart_type, c='r')\n",
    "ax.axvline(X_moyenne + X_ecart_type, c='r')\n"
   ]
  },
  {
   "cell_type": "code",
   "execution_count": null,
   "metadata": {
    "cell_id": "00025-b4e30d0c-a892-46fa-b176-ae811e8672d1",
    "deepnote_cell_type": "code",
    "deepnote_output_heights": [
     21.1875,
     252.984375
    ],
    "deepnote_to_be_reexecuted": false,
    "execution_millis": 625,
    "execution_start": 1638981690475,
    "source_hash": "bc97460b",
    "tags": []
   },
   "outputs": [
    {
     "data": {
      "text/plain": [
       "[<matplotlib.lines.Line2D at 0x7f6faeefc990>]"
      ]
     },
     "execution_count": 58,
     "metadata": {},
     "output_type": "execute_result"
    },
    {
     "data": {
      "image/png": "[encoded data removed]",
      "text/plain": [
       "<Figure size 432x288 with 1 Axes>"
      ]
     },
     "metadata": {
      "image/png": {
       "height": 251,
       "width": 384
      },
      "needs_background": "light"
     },
     "output_type": "display_data"
    }
   ],
   "source": [
    "x = np.linspace(-3*X_ecart_type, 3*X_ecart_type, 200)\n",
    "y = 1/np.sqrt(2*np.pi*X_variance)*np.exp(-x**2/(2*X_variance))\n",
    "\n",
    "fig, ax = plt.subplots()\n",
    "ax.hist(X, bins=20, density=True)\n",
    "ax.plot(x, y, c='r')"
   ]
  },
  {
   "cell_type": "code",
   "execution_count": null,
   "metadata": {
    "cell_id": "00026-e9f15e12-389a-40e8-9f3d-95d412a7eea2",
    "deepnote_cell_type": "code",
    "tags": []
   },
   "outputs": [],
   "source": []
  }
 ],
 "metadata": {
  "deepnote": {},
  "deepnote_execution_queue": [],
  "deepnote_notebook_id": "22ecd8b4-300e-4969-a54d-e0394b5edc1a",
  "kernelspec": {
   "display_name": "Python 3",
   "language": "python",
   "name": "python3"
  },
  "language_info": {
   "codemirror_mode": {
    "name": "ipython",
    "version": 3
   },
   "file_extension": ".py",
   "mimetype": "text/x-python",
   "name": "python",
   "nbconvert_exporter": "python",
   "pygments_lexer": "ipython3",
   "version": "3.7.3"
  }
 },
 "nbformat": 4,
 "nbformat_minor": 2
}
