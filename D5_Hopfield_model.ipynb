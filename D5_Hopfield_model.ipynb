{
 "cells": [
  {
   "cell_type": "markdown",
   "metadata": {},
   "source": [
    "# D5 : Modèle de Hopfield\n",
    "---\n",
    "\n",
    "Dans le dernier cours et le TD associé, nous avons étudié le modèle de Hopfield : C'est un modèle simplifié pour expliquer comment des motifs (mémoires) peuvent être stockés dans les connexions synaptiques et être récupérés par la dynamique du réseau. C'est l'archétype d'un réseau attracteur, dont le mécanisme sousjacent a par la suite également été démontré fonctionner avec des modèles de réseau plus compliqué (réseau à spike, modèles de taux de décharge etc.). \n",
    "\n",
    "Dans ce devoir, nous allons continuer à nous familiariser avec le modèle de Hopfield. Veuillez vous référer aux diapos du cours et les équations dans le notebook du TD associé pour la définition précise du modèle.\n"
   ]
  },
  {
   "cell_type": "code",
   "execution_count": 1,
   "metadata": {},
   "outputs": [],
   "source": [
    "# imports \n",
    "import numpy as np\n",
    "import matplotlib.pyplot as plt\n",
    "%matplotlib inline"
   ]
  },
  {
   "cell_type": "markdown",
   "metadata": {},
   "source": [
    "### 1. Récupération d'un motif, $K=1$\n",
    "\n",
    "Dans le TD, nous avons simulé l'évolution d'un réseau dont les poids synaptiques étaient choisis pour encoder un smiley. Pour une valeur de $\\beta$ suffisamment grande (approx. $\\beta>3$ dans le cas étudié), le réseau évolue dans le sens souhaité, c'est-à-dire réproduit petit à petit le motif stocké. \n",
    "\n",
    "Reproduisez ici, pour $\\beta=5$, l'évolution du réseau pour un autre motif : au lieu d'importer le fichier `smiley.dat`, nous utiliserons `flowers.dat`. Choissisez un overlap initial de 800 pixels, et itérer 10 fois (`nt = 11`). Plottez l'état du réseau à chaque étape à commencer avec l'état initial."
   ]
  },
  {
   "cell_type": "code",
   "execution_count": 2,
   "metadata": {},
   "outputs": [],
   "source": [
    "# define some useful functions you can use below\n",
    "# ----------------------------------------------\n",
    "\n",
    "# gain function\n",
    "def g(h, beta=1.):\n",
    "    \"\"\"Gain function: probability of a neuron to be \n",
    "    in the active state given the input h, for a \n",
    "    given value of beta (default value 1).\"\"\"\n",
    "    return 1/(1+np.exp(-beta*h))\n",
    "\n",
    "\n",
    "# overlap between a given pattern and a state\n",
    "def overlap(state, pattern):\n",
    "    return sum(state*pattern)/N\n",
    "\n",
    "\n",
    "# a plot function to easily plot the \n",
    "# network state as an image\n",
    "def plot_state(state):\n",
    "    plt.imshow(state.reshape((nx,ny)), cmap='Greys_r')\n",
    "    plt.pause(1)"
   ]
  },
  {
   "cell_type": "code",
   "execution_count": 3,
   "metadata": {},
   "outputs": [],
   "source": [
    "# import an image that we will use as first motif\n",
    "img = np.loadtxt('flowers.dat')\n",
    "nx, ny = img.shape\n",
    "\n",
    "# create our Hopfield net\n",
    "# -----------------------\n",
    "\n",
    "# convert the 2D pixel matrix to a 1D pattern vector\n",
    "P0 = img.flatten()\n",
    "\n",
    "# the network size is given by the length of the pattern\n",
    "N = len(P0)\n",
    "\n",
    "# for a single pattern, the weight matrix is given by\n",
    "W = P0[:,None] * P0[None,:] / N\n",
    "\n",
    "# enforce empty diagonal (no self-connections)\n",
    "W[np.arange(N),np.arange(N)] = 0"
   ]
  },
  {
   "cell_type": "code",
   "execution_count": 4,
   "metadata": {},
   "outputs": [],
   "source": [
    "# Dynamique du réseau de Hopfield\n",
    "# -------------------------------\n",
    "\n",
    "nt = 11\n",
    "\n",
    "# matrice représentant les états successifs \n",
    "# du réseau\n",
    "S = np.zeros((nt,N))\n",
    "\n",
    "# 1) Définissez l'état initial : \n",
    "# 1.a - initialization aléatoire\n",
    "# 1.b - overap partiel de 1000 pixels\n",
    "\n",
    "# ... votre code ...\n",
    "\n",
    "# 2) Itération\n",
    "\n",
    "# ... votre code ...\n"
   ]
  },
  {
   "cell_type": "markdown",
   "metadata": {},
   "source": [
    "#### Variation de la dynamique avec $\\beta$\n",
    "\n",
    "Répetez la dynamique pour différentes valeurs de $\\beta$, `betas = np.array([1, 2, 5, 10, 20])`, et calculez chaque fois l'overlap $m$ avec le motif. Plottez $m(t)$ en fonction de $t$ pour les différentes valeurs de $\\beta$. \n",
    "\n",
    "*Astuce :* Utilisez la fonction `overlap` définie plus haut pour calculer $m$."
   ]
  },
  {
   "cell_type": "code",
   "execution_count": 5,
   "metadata": {},
   "outputs": [],
   "source": [
    "betas = np.array([1, 2, 5, 10, 20])\n",
    "\n",
    "# ... votre code ...\n"
   ]
  },
  {
   "cell_type": "markdown",
   "metadata": {},
   "source": [
    "### 2. Récupération d'un motif, $K=2$\n",
    "\n",
    "Dans le cours, nous avons vu que la capacité maximale d'un réseau de Hopfield est $K_c=0.138 N$, ce qui dans notre cas ($N=4096$) suggère que le réseau peut stocker jusqu'à 565 motifs différents. On va faire plus simple et n'en considérer que deux. \n",
    "\n",
    "Construisez un réseau de Hopfield avec des connexions synaptiques pour stocker les deux motifs `smiley.dat` et `flowers.dat`. Pour cela, créez / définissez d'abord deux arrays P0 et P1 correspondant à chaque motif respectif. Rappelez-vous que la matrice de connectivité et ensuite donnée par l'addition des matrices de connectivité qu'on obtiendrait pour chaque motif individuellement."
   ]
  },
  {
   "cell_type": "code",
   "execution_count": 6,
   "metadata": {},
   "outputs": [],
   "source": [
    "# For simplicity, here are the two patterns:\n",
    "P0 = np.loadtxt('smiley.dat').flatten()\n",
    "P1 = np.loadtxt('flowers.dat').flatten()\n",
    "\n",
    "# ... votre code ..."
   ]
  },
  {
   "cell_type": "markdown",
   "metadata": {},
   "source": [
    "Maintenant que vous avex créé le réseau, simulez l'évolution pour des conditions initiales différentes, avec un overlap initial différent avec les deux motifs (voir ci-dessous). Pour chaque condition, calculez l'overlap avec chacun des deux motifs, et plottez comment les overlaps avec les deux motifs évoluent avec le temps (i.e., plottez $m^0(t)$ et $m^1(t)$ sur le même graphe).\n",
    "\n",
    "Dans le code suivant, je suppose que la variable `S` représente toujours l'état du reseau aux différents moments et est une matrice avec la forme `(nt,N)`."
   ]
  },
  {
   "cell_type": "code",
   "execution_count": 7,
   "metadata": {},
   "outputs": [
    {
     "data": {
      "image/png": "[encoded data removed]",
      "text/plain": [
       "<Figure size 432x288 with 1 Axes>"
      ]
     },
     "metadata": {
      "needs_background": "light"
     },
     "output_type": "display_data"
    }
   ],
   "source": [
    "# 1) Initial overlap with first pattern only\n",
    "S[0] = 2*np.round(np.random.uniform(size=N))-1 # clear previous initial condition\n",
    "nover = 800\n",
    "inds_over = np.random.choice(N, size=nover, replace=False)\n",
    "S[0,inds_over] = P0[inds_over] \n",
    "\n",
    "plot_state(S[0])\n"
   ]
  },
  {
   "cell_type": "code",
   "execution_count": 8,
   "metadata": {},
   "outputs": [],
   "source": [
    "# ... votre code ..."
   ]
  },
  {
   "cell_type": "code",
   "execution_count": 9,
   "metadata": {},
   "outputs": [
    {
     "data": {
      "image/png": "[encoded data removed]",
      "text/plain": [
       "<Figure size 432x288 with 1 Axes>"
      ]
     },
     "metadata": {
      "needs_background": "light"
     },
     "output_type": "display_data"
    }
   ],
   "source": [
    "# 2) Initial overlap with second pattern only\n",
    "S[0] = 2*np.round(np.random.uniform(size=N))-1 # clear previous initial condition\n",
    "nover = 800\n",
    "inds_over = np.random.choice(N, size=nover, replace=False)\n",
    "S[0,inds_over] = P1[inds_over] \n",
    "\n",
    "plot_state(S[0])"
   ]
  },
  {
   "cell_type": "code",
   "execution_count": 10,
   "metadata": {},
   "outputs": [],
   "source": [
    "# ... votre code ..."
   ]
  },
  {
   "cell_type": "code",
   "execution_count": 11,
   "metadata": {},
   "outputs": [
    {
     "data": {
      "image/png": "[encoded data removed]",
      "text/plain": [
       "<Figure size 432x288 with 1 Axes>"
      ]
     },
     "metadata": {
      "needs_background": "light"
     },
     "output_type": "display_data"
    }
   ],
   "source": [
    "# 3) Initial overlap with both patterns\n",
    "S[0] = 2*np.round(np.random.uniform(size=N))-1 # clear previous initial condition\n",
    "nover0 = 400\n",
    "nover1 = 400\n",
    "inds_over0 = np.random.choice(N//2, size=nover, replace=False)\n",
    "inds_over1 = N//2 + np.random.choice(N//2, size=nover, replace=False)\n",
    "S[0,inds_over0] = P0[inds_over0] # partial overlap (first 800 neurons)\n",
    "S[0,inds_over1] = P1[inds_over1] # partial overlap (first 800 neurons)\n",
    "\n",
    "\n",
    "\n",
    "plot_state(S[0])\n"
   ]
  },
  {
   "cell_type": "code",
   "execution_count": 12,
   "metadata": {},
   "outputs": [],
   "source": [
    "# ... votre code ..."
   ]
  },
  {
   "cell_type": "code",
   "execution_count": 13,
   "metadata": {},
   "outputs": [
    {
     "data": {
      "image/png": "[encoded data removed]",
      "text/plain": [
       "<Figure size 432x288 with 1 Axes>"
      ]
     },
     "metadata": {
      "needs_background": "light"
     },
     "output_type": "display_data"
    }
   ],
   "source": [
    "# 4) Initial overlap with both patterns (stealth mode)\n",
    "S[0] = 2*np.round(np.random.uniform(size=N))-1 # clear previous initial condition\n",
    "nover0 = 800\n",
    "nover1 = 1000\n",
    "inds_over1 = nover0 + np.random.choice(N-nover0, size=nover, replace=False)\n",
    "S[0,:nover0] = P0[:nover0] # partial overlap (first 800 neurons)\n",
    "S[0,inds_over1] = P1[inds_over1] # partial overlap (first 800 neurons)\n",
    "\n",
    "\n",
    "\n",
    "plot_state(S[0])\n"
   ]
  },
  {
   "cell_type": "code",
   "execution_count": 14,
   "metadata": {},
   "outputs": [],
   "source": [
    "# ... votre code ..."
   ]
  },
  {
   "cell_type": "markdown",
   "metadata": {},
   "source": [
    "Pour la condition (3), est-ce que vous observez toujours le même résultat si vous répetez l'itération ? Pour la condition (4), est-ce que le résultat vous a surpris ? Pourquoi ?"
   ]
  },
  {
   "cell_type": "code",
   "execution_count": 15,
   "metadata": {},
   "outputs": [],
   "source": [
    "# ... réponse écrite ..."
   ]
  },
  {
   "cell_type": "markdown",
   "metadata": {},
   "source": [
    "## 3. BONUS : La capacité du réseau d'Hopfield\n",
    "\n",
    "Dans le TD nous avons commencé à regarder l'influence de la présence des autres motifs $\\mu\\neq\\nu$ pour la dynamique de récupération d'un motif particulier $\\nu$. Puisque les $P^\\mu_i$ sont -1 ou 1 avec probabilité 0.5 a priori, j'ai argumenté que cette présence des autres motifs revient à un bruit dans la matrice de connextion $w_{ij}$ (toujours pour $i\\neq j$) selon\n",
    "$$w_{ij} = w^0_{ij}  + \\xi_{ij},$$\n",
    "où $w^0_{ij} = \\frac{1}{N} P^0_i P^0_j$ est la matrice de connectivité pour le seul motif $\\nu=0$, et les nombres aléatoires $\\xi_{ij}$ sont issus d'une distribution Gaussienne avec moyenne $\\langle\\xi_{ij}\\rangle = 0$  et variance $\\langle\\xi_{ij}^2\\rangle = (K-1)/N^2$.\n",
    "\n",
    "Implémentez un réseau de Hopfield avec un motif précis donné (`smiley.dat` ou `flowers.dat`) et du bruit correspondant à la présence de $K-1$ d'autres motifs. Itérez le réseau pour différentes valeurs de $K$, `Ks = [100, 200, 500, 1000, 2000]`. Qu'est-ce que vous observez si vous plottez l'overlap avec le motif donné en fonction du temps pour les différents $K$ ? Commencez à nouveau avec un overlap initial de 800 pixels.\n",
    "\n",
    "**Rappel :** Des nombres aléatoires suivant une distribution normale peuvent être obtenus avec `np.random.normal(...)`.\n",
    "\n",
    "**Attention :** Veillez à ce que $\\xi_{ij}=\\xi_{ji}$ ! Une possibilité de symmétriser les $\\xi_{ij}$ sera de rajouter la transposé à la matrice d'origine : `xi_symm = (xi + xi.T)/np.sqrt(2)`, où je suppose que `xi` est une matrice de nombres aléatoires avec dimension $N\\times N$ et la variance souhaitée (pour que la variance de `xi_symm` ne soit pas plus grande, il faut diviser par $\\sqrt{2}$).\n",
    "\n",
    "**Astuce :** Eviter d'afficher l'état du réseau à chaque itération, ou changez la durée de (voir enlevez) la pause imposé dans la définition de `plot_state`."
   ]
  },
  {
   "cell_type": "code",
   "execution_count": 16,
   "metadata": {},
   "outputs": [],
   "source": [
    "# ... votre code ...."
   ]
  },
  {
   "cell_type": "markdown",
   "metadata": {},
   "source": [
    "Qu'est-ce que vous observez ? Est-ce que cela vous permet de conclure quelque chose sur la capacité du réseau ?"
   ]
  },
  {
   "cell_type": "code",
   "execution_count": null,
   "metadata": {},
   "outputs": [],
   "source": []
  }
 ],
 "metadata": {
  "kernelspec": {
   "display_name": "Python 3",
   "language": "python",
   "name": "python3"
  },
  "language_info": {
   "codemirror_mode": {
    "name": "ipython",
    "version": 3
   },
   "file_extension": ".py",
   "mimetype": "text/x-python",
   "name": "python",
   "nbconvert_exporter": "python",
   "pygments_lexer": "ipython3",
   "version": "3.7.3"
  }
 },
 "nbformat": 4,
 "nbformat_minor": 4
}
